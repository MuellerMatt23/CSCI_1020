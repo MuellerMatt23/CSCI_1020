{
  "nbformat": 4,
  "nbformat_minor": 0,
  "metadata": {
    "colab": {
      "provenance": []
    },
    "kernelspec": {
      "name": "python3",
      "display_name": "Python 3"
    },
    "language_info": {
      "name": "python"
    }
  },
  "cells": [
    {
      "cell_type": "code",
      "execution_count": 17,
      "metadata": {
        "id": "t0HmoyhqN9XJ"
      },
      "outputs": [],
      "source": [
        "#Implementation of the Needleman-Wunsch Global Pairwise Alignment algorithm\n",
        "\n",
        "def build_table(X, Y, match=1, mismatch=-1, gap=-1):\n",
        "    sequence1 = X\n",
        "    sequence2 = Y\n",
        "    print(\"Sequence 1:\", X)\n",
        "    print(\"Sequence 2:\", Y)\n",
        "\n",
        "    if X == Y:\n",
        "      return('The sequences are already aligned.')\n",
        "\n",
        "    \n",
        "    #### Note 1: create table of zeros with dimension (1+|X|)-by-(1+|Y|)\n",
        "    # X: vertical,  Y:horizontal\n",
        "    opt = []\n",
        "    \n",
        "    #### Note 2: Use Lab08 codes to initialize the alignment table.   Please write your codes here!\n",
        "    for i in range(len(X)+1):\n",
        "      row = []\n",
        "      for j in range(len(Y)+1):\n",
        "        row.append(0)\n",
        "      opt.append(row)\n",
        "\n",
        "    #### Note 3: Use Lab08 codes to initialize the first row and first column.   Please write your codes here!\n",
        "    ## initialize first row\n",
        "    for rowid in range(0, len(opt)):\n",
        "        opt[rowid][0] = -1* rowid\n",
        "\n",
        "    ## initialize first column\n",
        "    for colid in range(0, len(opt[0])):\n",
        "        opt[0][colid] = -1* colid\n",
        "    \n",
        "    #### Note 4: How to calculate the optimal score in each cell? left-to-right? top-to-bottom? diagonal?  Please write your codes here!\n",
        "    for i in range(1,len(opt)):\n",
        "      for j in range(1, len(opt[0])):\n",
        "\n",
        "          #option 1: top to bottom\n",
        "          score1 = opt[i-1][j] + gap\n",
        "\n",
        "          #option 2: left to right\n",
        "          score2 = opt[i][j-1] + gap\n",
        "\n",
        "          #option 3: from diagonal \n",
        "          if sequence1[i-1] == sequence2[j-1]:\n",
        "            score3 = opt[i-1][j-1] + match\n",
        "          else:\n",
        "            score3 = opt[i-1][j-1] + mismatch\n",
        "\n",
        "          best_path = max([score1, score2, score3])\n",
        "\n",
        "          opt[i][j] = best_path\n",
        "    #### Print the final table  \n",
        "    print(\"The initial table with dimension \", len(opt), \" and \", len(opt[0]) ,\" for the sequence alignment is:\")\n",
        "    for i in range(0,len(opt)):\n",
        "      print(\"Row \", i, ':', opt[i] )\n",
        "\n",
        "    #### return the final table \n",
        "    return opt"
      ]
    },
    {
      "cell_type": "code",
      "source": [
        "build_table('ATATATATATA', 'ATATATATGCGC')"
      ],
      "metadata": {
        "colab": {
          "base_uri": "https://localhost:8080/"
        },
        "id": "tYJ1m2ON7YSi",
        "outputId": "b7c77b15-2ac8-4569-c348-2527da7dc4f4"
      },
      "execution_count": 18,
      "outputs": [
        {
          "output_type": "stream",
          "name": "stdout",
          "text": [
            "Sequence 1: ATATATATATA\n",
            "Sequence 2: ATATATATGCGC\n",
            "The initial table with dimension  12  and  13  for the sequence alignment is:\n",
            "Row  0 : [0, -1, -2, -3, -4, -5, -6, -7, -8, -9, -10, -11, -12]\n",
            "Row  1 : [-1, 1, 0, -1, -2, -3, -4, -5, -6, -7, -8, -9, -10]\n",
            "Row  2 : [-2, 0, 2, 1, 0, -1, -2, -3, -4, -5, -6, -7, -8]\n",
            "Row  3 : [-3, -1, 1, 3, 2, 1, 0, -1, -2, -3, -4, -5, -6]\n",
            "Row  4 : [-4, -2, 0, 2, 4, 3, 2, 1, 0, -1, -2, -3, -4]\n",
            "Row  5 : [-5, -3, -1, 1, 3, 5, 4, 3, 2, 1, 0, -1, -2]\n",
            "Row  6 : [-6, -4, -2, 0, 2, 4, 6, 5, 4, 3, 2, 1, 0]\n",
            "Row  7 : [-7, -5, -3, -1, 1, 3, 5, 7, 6, 5, 4, 3, 2]\n",
            "Row  8 : [-8, -6, -4, -2, 0, 2, 4, 6, 8, 7, 6, 5, 4]\n",
            "Row  9 : [-9, -7, -5, -3, -1, 1, 3, 5, 7, 7, 6, 5, 4]\n",
            "Row  10 : [-10, -8, -6, -4, -2, 0, 2, 4, 6, 6, 6, 5, 4]\n",
            "Row  11 : [-11, -9, -7, -5, -3, -1, 1, 3, 5, 5, 5, 5, 4]\n"
          ]
        },
        {
          "output_type": "execute_result",
          "data": {
            "text/plain": [
              "[[0, -1, -2, -3, -4, -5, -6, -7, -8, -9, -10, -11, -12],\n",
              " [-1, 1, 0, -1, -2, -3, -4, -5, -6, -7, -8, -9, -10],\n",
              " [-2, 0, 2, 1, 0, -1, -2, -3, -4, -5, -6, -7, -8],\n",
              " [-3, -1, 1, 3, 2, 1, 0, -1, -2, -3, -4, -5, -6],\n",
              " [-4, -2, 0, 2, 4, 3, 2, 1, 0, -1, -2, -3, -4],\n",
              " [-5, -3, -1, 1, 3, 5, 4, 3, 2, 1, 0, -1, -2],\n",
              " [-6, -4, -2, 0, 2, 4, 6, 5, 4, 3, 2, 1, 0],\n",
              " [-7, -5, -3, -1, 1, 3, 5, 7, 6, 5, 4, 3, 2],\n",
              " [-8, -6, -4, -2, 0, 2, 4, 6, 8, 7, 6, 5, 4],\n",
              " [-9, -7, -5, -3, -1, 1, 3, 5, 7, 7, 6, 5, 4],\n",
              " [-10, -8, -6, -4, -2, 0, 2, 4, 6, 6, 6, 5, 4],\n",
              " [-11, -9, -7, -5, -3, -1, 1, 3, 5, 5, 5, 5, 4]]"
            ]
          },
          "metadata": {},
          "execution_count": 18
        }
      ]
    },
    {
      "cell_type": "code",
      "source": [
        "def TraceBack(X, Y, table, match=1, mismatch=-1, gap=-1):\n",
        "    first = ''        # alignment for X\n",
        "    second = ''       # alignment for Y\n",
        "    glue = ''         # line showing matches/mismatches\n",
        "    # start reconstruction at bottom-right of table\n",
        "    j = len(X)\n",
        "    k = len(Y)\n",
        "\n",
        "    while j>0 or k>0:\n",
        "        #### \n",
        "        ##   This block checks if the best score at cell j,k is derived from the top-left cell with diagonal direction\n",
        "        ###########################################################################################################\n",
        "        if j>0 and k>0 and ((X[j-1] == Y[k-1] and table[j][k] == table[j-1][k-1] + match) or (X[j-1] != Y[k-1] and table[j][k] == table[j-1][k-1] + mismatch)):\n",
        "            # option1 above; match X[j-1] with Y[k-1]\n",
        "            first =  X[j-1] + first\n",
        "            second = Y[k-1] + second\n",
        "            if X[j-1] == Y[k-1] and table[j][k] == table[j-1][k-1] + match:\n",
        "              glue = '|' + glue   # designate match\n",
        "            elif X[j-1] != Y[k-1] and table[j][k] == table[j-1][k-1] + mismatch:\n",
        "              glue = '.' + glue   # designate mismatch\n",
        "            j = j-1\n",
        "            k = k-1\n",
        "        \n",
        "        #### \n",
        "        ##   This block checks if the best score at cell j,k is derived from the top cell with vertical direction\n",
        "        ###########################################################################################################\n",
        "        elif j > 0 and table[j][k] == table[j-1][k] + gap:\n",
        "            # option1 above; match X[j-1] with a gap in Y\n",
        "            first  = X[j-1] + first\n",
        "            second = '-' + second\n",
        "            glue   = ' ' + glue\n",
        "            j = j-1\n",
        "\n",
        "        ####\n",
        "        ##   This block checks if the best score at cell j,k is derived from the left cell with horizontal direction\n",
        "        ###########################################################################################################\n",
        "        elif k > 0 and table[j][k] == table[j][k-1] + gap:\n",
        "            # option2 above; match gap in X with Y[k-1]\n",
        "            first  = '-'  + first\n",
        "            second = Y[k-1] + second\n",
        "            glue   = ' '  + glue\n",
        "            k = k-1\n",
        "\n",
        "    print(\"The best alignment is:\")\n",
        "    print(first)\n",
        "    print(glue)\n",
        "    print(second)\n",
        "    print(\"The score of optimal alignment is: \",table[len(X)][len(Y)])\n",
        "    return first,glue,second\n",
        "\n",
        "\n",
        "# test the both functions\n",
        "table = alignment_table('CACCT','AACT',match=2, mismatch=-1, gap=-1)\n",
        "TraceBack('CACCT','AACT', table, match=2, mismatch=-1, gap=-1)"
      ],
      "metadata": {
        "colab": {
          "base_uri": "https://localhost:8080/"
        },
        "id": "Eq36ufOcjaL9",
        "outputId": "04913695-8448-49d2-a9d7-ace6266b65e5"
      },
      "execution_count": 19,
      "outputs": [
        {
          "output_type": "stream",
          "name": "stdout",
          "text": [
            "Sequence 1:  CACCT  with length  5\n",
            "Sequence 2:  AACT  with length  4\n",
            "The initial table with dimension  6  and  5  for the sequence alignment is:\n",
            "Row  0 : [0, -1, -2, -3, -4]\n",
            "Row  1 : [-1, -1, -2, 0, -1]\n",
            "Row  2 : [-2, 1, 1, 0, -1]\n",
            "Row  3 : [-3, 0, 0, 3, 2]\n",
            "Row  4 : [-4, -1, -1, 2, 2]\n",
            "Row  5 : [-5, -2, -2, 1, 4]\n",
            "The best alignment is:\n",
            "CACCT\n",
            " |.||\n",
            "-AACT\n",
            "The score of optimal alignment is:  4\n"
          ]
        },
        {
          "output_type": "execute_result",
          "data": {
            "text/plain": [
              "('CACCT', ' |.||', '-AACT')"
            ]
          },
          "metadata": {},
          "execution_count": 19
        }
      ]
    },
    {
      "cell_type": "code",
      "source": [
        "# test the both functions\n",
        "table = build_table('CACCT','AACT',match=2, mismatch=-1, gap=-1)\n",
        "TraceBack('CACCT','AACT', table, match=2, mismatch=-1, gap=-1)"
      ],
      "metadata": {
        "colab": {
          "base_uri": "https://localhost:8080/"
        },
        "id": "K11Dk8dp8Q_3",
        "outputId": "a175a6ca-4deb-4590-d3d3-d74f4cd6c9fa"
      },
      "execution_count": 20,
      "outputs": [
        {
          "output_type": "stream",
          "name": "stdout",
          "text": [
            "Sequence 1: CACCT\n",
            "Sequence 2: AACT\n",
            "The initial table with dimension  6  and  5  for the sequence alignment is:\n",
            "Row  0 : [0, -1, -2, -3, -4]\n",
            "Row  1 : [-1, -1, -2, 0, -1]\n",
            "Row  2 : [-2, 1, 1, 0, -1]\n",
            "Row  3 : [-3, 0, 0, 3, 2]\n",
            "Row  4 : [-4, -1, -1, 2, 2]\n",
            "Row  5 : [-5, -2, -2, 1, 4]\n",
            "The best alignment is:\n",
            "CACCT\n",
            " |.||\n",
            "-AACT\n",
            "The score of optimal alignment is:  4\n"
          ]
        },
        {
          "output_type": "execute_result",
          "data": {
            "text/plain": [
              "('CACCT', ' |.||', '-AACT')"
            ]
          },
          "metadata": {},
          "execution_count": 20
        }
      ]
    },
    {
      "cell_type": "code",
      "source": [
        "#Task 5\n",
        "table = build_table('TTGCT','CTTCCT',match=2, mismatch=-1, gap=-1)\n",
        "TraceBack('TTGCT','CTTCCT', table, match=2, mismatch=-1, gap=-1)"
      ],
      "metadata": {
        "colab": {
          "base_uri": "https://localhost:8080/"
        },
        "id": "FfiiJVOj8T3t",
        "outputId": "b4db9583-4114-4ba7-a7ab-2971d6071439"
      },
      "execution_count": 21,
      "outputs": [
        {
          "output_type": "stream",
          "name": "stdout",
          "text": [
            "Sequence 1: TTGCT\n",
            "Sequence 2: CTTCCT\n",
            "The initial table with dimension  6  and  7  for the sequence alignment is:\n",
            "Row  0 : [0, -1, -2, -3, -4, -5, -6]\n",
            "Row  1 : [-1, -1, 1, 0, -1, -2, -3]\n",
            "Row  2 : [-2, -2, 1, 3, 2, 1, 0]\n",
            "Row  3 : [-3, -3, 0, 2, 2, 1, 0]\n",
            "Row  4 : [-4, -1, -1, 1, 4, 4, 3]\n",
            "Row  5 : [-5, -2, 1, 1, 3, 3, 6]\n",
            "The best alignment is:\n",
            "-TTGCT\n",
            " ||.||\n",
            "CTTCCT\n",
            "The score of optimal alignment is:  6\n"
          ]
        },
        {
          "output_type": "execute_result",
          "data": {
            "text/plain": [
              "('-TTGCT', ' ||.||', 'CTTCCT')"
            ]
          },
          "metadata": {},
          "execution_count": 21
        }
      ]
    },
    {
      "cell_type": "code",
      "source": [
        "#Task 6.Testing the python program using arbitrary sequences to answer the following questions.\n",
        "table = build_table('TACGTGC','TCGTGCG',match=2, mismatch=-1, gap=-1)\n",
        "TraceBack('TACGTGC','TCGTGCG', table, match=2, mismatch=-1, gap=-1)"
      ],
      "metadata": {
        "colab": {
          "base_uri": "https://localhost:8080/"
        },
        "id": "FGf5HG6eFiIA",
        "outputId": "2f44ca2a-b67f-4d1c-ebe5-d82ef5f33337"
      },
      "execution_count": 22,
      "outputs": [
        {
          "output_type": "stream",
          "name": "stdout",
          "text": [
            "Sequence 1: TACGTGC\n",
            "Sequence 2: TCGTGCG\n",
            "The initial table with dimension  8  and  8  for the sequence alignment is:\n",
            "Row  0 : [0, -1, -2, -3, -4, -5, -6, -7]\n",
            "Row  1 : [-1, 2, 1, 0, -1, -2, -3, -4]\n",
            "Row  2 : [-2, 1, 1, 0, -1, -2, -3, -4]\n",
            "Row  3 : [-3, 0, 3, 2, 1, 0, 0, -1]\n",
            "Row  4 : [-4, -1, 2, 5, 4, 3, 2, 2]\n",
            "Row  5 : [-5, -2, 1, 4, 7, 6, 5, 4]\n",
            "Row  6 : [-6, -3, 0, 3, 6, 9, 8, 7]\n",
            "Row  7 : [-7, -4, -1, 2, 5, 8, 11, 10]\n",
            "The best alignment is:\n",
            "TACGTGC-\n",
            "| ||||| \n",
            "T-CGTGCG\n",
            "The score of optimal alignment is:  10\n"
          ]
        },
        {
          "output_type": "execute_result",
          "data": {
            "text/plain": [
              "('TACGTGC-', '| ||||| ', 'T-CGTGCG')"
            ]
          },
          "metadata": {},
          "execution_count": 22
        }
      ]
    }
  ]
}